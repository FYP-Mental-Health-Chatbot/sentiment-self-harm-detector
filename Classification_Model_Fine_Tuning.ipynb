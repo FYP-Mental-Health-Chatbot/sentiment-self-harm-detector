{
  "nbformat": 4,
  "nbformat_minor": 0,
  "metadata": {
    "colab": {
      "provenance": []
    },
    "kernelspec": {
      "name": "python3",
      "display_name": "Python 3"
    },
    "language_info": {
      "name": "python"
    }
  },
  "cells": [
    {
      "cell_type": "markdown",
      "source": [
        "Fine-Tuning BERT for Classification"
      ],
      "metadata": {
        "id": "GXUCs6Mr0JYC"
      }
    },
    {
      "cell_type": "code",
      "source": [],
      "metadata": {
        "id": "CAijgMJY2OuZ"
      },
      "execution_count": null,
      "outputs": []
    }
  ]
}